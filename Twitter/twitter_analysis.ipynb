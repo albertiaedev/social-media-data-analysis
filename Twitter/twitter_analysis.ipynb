{
 "cells": [
  {
   "cell_type": "markdown",
   "metadata": {},
   "source": [
    "# Clean & Analyze Social Media"
   ]
  },
  {
   "cell_type": "markdown",
   "metadata": {},
   "source": [
    "## Introduction\n",
    "\n",
    "Social media has become a ubiquitous part of modern life, with platforms such as Instagram, Twitter, and Facebook serving as essential communication channels. Social media data sets are vast and complex, making analysis a challenging task for businesses and researchers alike. In this project, we explore a simulated social media, for example Tweets, data set to understand trends in likes across different categories.\n",
    "\n",
    "## Project Scope\n",
    "\n",
    "The objective of this project is to analyze tweets (or other social media data) and gain insights into user engagement. We will explore the data set using visualization techniques to understand the distribution of likes across different categories. Finally, we will analyze the data to draw conclusions about the most popular categories and the overall engagement on the platform.\n",
    "\n",
    "## Step 1: Importing Required Libraries\n",
    "\n",
    "As the name suggests, the first step is to import all the necessary libraries that will be used in the project. In this case, we need pandas, numpy, matplotlib, seaborn, and random libraries.\n",
    "\n",
    "Pandas is a library used for data manipulation and analysis. Numpy is a library used for numerical computations. Matplotlib is a library used for data visualization. Seaborn is a library used for statistical data visualization. Random is a library used to generate random numbers."
   ]
  },
  {
   "cell_type": "code",
   "execution_count": 26,
   "metadata": {},
   "outputs": [],
   "source": [
    "import random"
   ]
  },
  {
   "cell_type": "code",
   "execution_count": 27,
   "metadata": {},
   "outputs": [],
   "source": [
    "import matplotlib.pyplot as plt\n",
    "import numpy as np\n",
    "import pandas as pd\n",
    "import seaborn as sns"
   ]
  },
  {
   "cell_type": "markdown",
   "metadata": {},
   "source": [
    "## Step 2: Generate random data for the social media data"
   ]
  },
  {
   "cell_type": "code",
   "execution_count": 28,
   "metadata": {},
   "outputs": [],
   "source": [
    "# Define categories\n",
    "categories = ['Food', 'Travel', 'Fashion', 'Fitness', 'Music', 'Culture', 'Family', 'Health']\n",
    "\n",
    "# Generate random tweet data\n",
    "n = 500  # number of tweets\n",
    "data = {'Date': pd.date_range(start='2021-01-01', periods=n),\n",
    "        'Category': random.choice(categories),\n",
    "        'Likes': np.random.randint(0, 10000, size=n),\n",
    "        'Retweets': np.random.randint(0, 1000, size=n),\n",
    "        'Comments': np.random.randint(0, 500, size=n)}"
   ]
  },
  {
   "cell_type": "markdown",
   "metadata": {},
   "source": [
    "## Step 3: Load the data into a Pandas DataFrame and Explore the data"
   ]
  },
  {
   "cell_type": "code",
   "execution_count": 34,
   "metadata": {},
   "outputs": [
    {
     "name": "stdout",
     "output_type": "stream",
     "text": [
      "        Date Category  Likes  Retweets  Comments\n",
      "0 2021-01-01     Food   6871       695       240\n",
      "1 2021-01-02     Food   7863       279       135\n",
      "2 2021-01-03     Food   4237       384        94\n",
      "3 2021-01-04     Food   2708       897       221\n",
      "4 2021-01-05     Food   7725        65       282\n",
      "Food: 500\n"
     ]
    }
   ],
   "source": [
    "# Create a DataFrame from the data\n",
    "df = pd.DataFrame(data)\n",
    "\n",
    "# Print the first 5 rows of the DataFrame\n",
    "print(df.head())\n",
    "\n",
    "# Group by 'Category' and count the number of occurrences\n",
    "category_counts = df.groupby('Category').size()\n",
    "\n",
    "# Print the category counts\n",
    "for category, count in category_counts.items():\n",
    "    print(f'{category}: {count}')"
   ]
  },
  {
   "cell_type": "markdown",
   "metadata": {},
   "source": [
    "## Step 4: Clean the data"
   ]
  },
  {
   "cell_type": "code",
   "execution_count": 30,
   "metadata": {},
   "outputs": [],
   "source": [
    "# Replace null data\n",
    "df.fillna(0,inplace=True)\n",
    "\n",
    "# Remove duplicate data\n",
    "df.drop_duplicates(inplace=True)\n",
    "\n",
    "# Convert 'Date' column to datetime format\n",
    "df['Date'] = pd.to_datetime(df['Date'])\n",
    "\n",
    "# Convert 'Likes' column to integer format\n",
    "df['Likes'] = df['Likes'].astype(int)"
   ]
  },
  {
   "cell_type": "markdown",
   "metadata": {},
   "source": [
    "## Step 5: Visualize and Analyze the data"
   ]
  },
  {
   "cell_type": "code",
   "execution_count": 41,
   "metadata": {},
   "outputs": [
    {
     "data": {
      "image/png": "[encoded data removed]",
      "text/plain": [
       "<Figure size 432x288 with 1 Axes>"
      ]
     },
     "metadata": {
      "needs_background": "light"
     },
     "output_type": "display_data"
    },
    {
     "name": "stdout",
     "output_type": "stream",
     "text": [
      "4814.09\n",
      "Category\n",
      "Food    4814.09\n",
      "Name: Likes, dtype: float64\n"
     ]
    }
   ],
   "source": [
    "# Create a boxplot with the x axis as 'Category' and the y axis as 'Likes'\n",
    "sns.boxplot(x='Category', y='Likes', data=df)\n",
    "plt.show()\n",
    "\n",
    "# Print out the mean of the 'Likes' column\n",
    "print(df['Likes'].mean())\n",
    "\n",
    "# Print out the mean of each Category 'Likes'\n",
    "category_means = df.groupby('Category')['Likes'].mean()\n",
    "print(category_means)"
   ]
  },
  {
   "cell_type": "markdown",
   "metadata": {},
   "source": [
    "## Step 6: Describe Conclusions "
   ]
  },
  {
   "cell_type": "markdown",
   "metadata": {},
   "source": [
    "In this project, I generated random tweet data using pandas, numpy, and random modules in Python. I then cleaned the data by removing null and duplicate data, converting the 'Date' column to datetime format, and converting the 'Likes' column to integer format. I visualized the data using seaborn and calculated some statistics on the data using pandas.\n",
    "\n",
    "One of the challenges I faced in this project was figuring out the best way to generate random data that aligns with the 'Date' column. I overcame this challenge by using pandas date range to choose a pseudo-random date within a range, the random module's choice to create a choice from a list, and numpy's random to create a random integer.\n",
    "\n",
    "What sets my portfolio project apart from those of other candidates is my ability with Python to perform useful data analysis, as well as my use of libraries to analyze, modify, clean, manipulate and visualize the data. I believe that these skills demonstrate my creativity, attention to detail, and ability to solve complex problems.\n",
    "\n",
    "To improve the design for future business endeavors, I would consider using a more sophisticated method for generating random data, such as using a machine learning algorithm to predict the category of a tweet based on its content. I would also consider using a more advanced visualization tool, such as Plotly or Bokeh, to create interactive plots that allow users to explore the data in more depth.\n",
    "\n",
    "Overall, I am proud of the work I have done in this project and believe that it showcases my skills as a marketing analyst with expertise in Python. I am confident that I can bring these skills to a challenging and dynamic work environment, and I look forward to the opportunity to contribute to a team of like-minded individuals."
   ]
  },
  {
   "cell_type": "code",
   "execution_count": null,
   "metadata": {},
   "outputs": [],
   "source": []
  }
 ],
 "metadata": {
  "kernelspec": {
   "display_name": "Python 3",
   "language": "python",
   "name": "python3"
  },
  "language_info": {
   "codemirror_mode": {
    "name": "ipython",
    "version": 3
   },
   "file_extension": ".py",
   "mimetype": "text/x-python",
   "name": "python",
   "nbconvert_exporter": "python",
   "pygments_lexer": "ipython3",
   "version": "3.7.6"
  }
 },
 "nbformat": 4,
 "nbformat_minor": 4
}
